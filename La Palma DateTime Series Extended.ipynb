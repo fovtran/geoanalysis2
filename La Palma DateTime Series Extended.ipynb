{
 "cells": [
  {
   "cell_type": "code",
   "execution_count": 1,
   "id": "55b09afa",
   "metadata": {},
   "outputs": [
    {
     "name": "stdout",
     "output_type": "stream",
     "text": [
      "Loading GeoAnalysisTools\n",
      "dict_keys(['name', 'default', 'IGN', 'profile1'])\n"
     ]
    }
   ],
   "source": [
    "# diego\n",
    "from geoanalysistools.geo import *\n",
    "data = readconf(\"config.toml\")"
   ]
  },
  {
   "cell_type": "code",
   "execution_count": 2,
   "id": "35ca7324",
   "metadata": {},
   "outputs": [],
   "source": [
    "# Open a GeoJSON provided and use it as GeoDataFrame\n",
    "df = gpd.read_file( data['default']['global_geojson_slice_file'], driver=\"GeoJSON\")\n",
    "df[[\"Date\"]] = df[[\"Date\"]].apply(pd.to_datetime)"
   ]
  },
  {
   "cell_type": "code",
   "execution_count": 3,
   "id": "50bbae90",
   "metadata": {},
   "outputs": [],
   "source": [
    "# Drop some Rows based on Bounding box condition\n",
    "df = df.drop(df[df.latitud < data['profile1']['minlat']].index)\n",
    "df = df.drop(df[df.latitud > data['profile1']['maxlat']].index)\n",
    "df = df.drop(df[df.longitud < data['profile1']['minlon']].index)\n",
    "df = df.drop(df[df.longitud > data['profile1']['maxlon']].index)\n",
    "\n",
    "start_date = \"2021-10-26\"\n",
    "end_date = todayDate2()\n",
    "df1 = SeriesCutByDate(start_date, end_date, df)\n",
    "\n",
    "gdf = GeoDataFrame(df, geometry=gpd.points_from_xy(df.longitud, df.latitud))\n",
    "# gdf.describe(percentiles=[.05,.10,.20,.25,.30,.40,.45,.50,.60,.70,.75,.80,.90,.95,.97,.98,.99], include='all',datetime_is_numeric=True)"
   ]
  },
  {
   "cell_type": "code",
   "execution_count": 4,
   "id": "738fdd7e",
   "metadata": {},
   "outputs": [
    {
     "name": "stdout",
     "output_type": "stream",
     "text": [
      "(9.808063102541631, 0.21140062083337685, 5.858934234819879)\n",
      "(0.0, 0.13243566673003582, 8.016282691420287)\n",
      "(15.587240269242027, 0.24341027487678246, 8.82244688234091)\n",
      "(19.947017543859648, 0.22579623274102587, 11.597821851858114)\n",
      "(36.25238095238095, 0.19388143700313817, 1.7602990454421195)\n",
      "(40.6, 0.24743582965269675, 1.7259413284894)\n",
      "(9.808063102541631, -1.221108681903675, 8.260990935286994)\n",
      "(41.2, -1.138307906529557, 2.461729693747506)\n",
      "(15.587240269242027, -0.541376137699193, 1.1607065071773097)\n",
      "(19.947017543859648, 0.7592273044173812, -1.4492685325802501)\n",
      "(36.25238095238095, -1.4871644789433829, 0.36480290389479864)\n",
      "(32.1, -1.1693971631205655, 0.1494278620703957)\n"
     ]
    }
   ],
   "source": [
    "q_none = gdf.loc[ df['magnitud'].between(1.8,2.4) ]\n",
    "q_low = gdf.loc[ df['magnitud'].between(2.4,2.85) ]\n",
    "q_norm = gdf.loc[ df['magnitud'].between(2.7,3.65) ]\n",
    "q_mid = gdf.loc[ df['magnitud'].between(3.5,4.3) ]\n",
    "q_hi = gdf.loc[ df['magnitud'].between(4.3,4.8) ]\n",
    "q_max = gdf.loc[ df['magnitud'].between(4.3,6) ]\n",
    "profs = [\n",
    "    (q_none['profundidad'].mean(), q_none['magnitud'].std(), q_none['profundidad'].std()),      # 1.8 - 2.4\n",
    "    (q_low['profundidad'].min(), q_low['magnitud'].std(), q_low['profundidad'].std()),      # 2.4 - 2.85\n",
    "    (q_norm['profundidad'].mean(), q_norm['magnitud'].std(), q_norm['profundidad'].std()),   # 2.7 - 3.65\n",
    "    (q_mid['profundidad'].mean(), q_mid['magnitud'].std(), q_mid['profundidad'].std()),     # 3.5 - 4.3\n",
    "    (q_hi['profundidad'].mean(), q_hi['magnitud'].std(), q_hi['profundidad'].std()),       # 4.3 - 4.8\n",
    "    (q_max['profundidad'].max(), q_max['magnitud'].std(), q_max['profundidad'].std()),      # 4.3 - 6\n",
    "     ]\n",
    "other = [\n",
    "    (q_none['profundidad'].mean(), q_none['magnitud'].kurtosis(), q_none['profundidad'].kurtosis()),  # 1.8 - 2.4\n",
    "    (q_low['profundidad'].max(), q_low['magnitud'].kurtosis(), q_low['profundidad'].kurtosis()),      # 2.4 - 2.85\n",
    "    (q_norm['profundidad'].mean(), q_norm['magnitud'].kurtosis(), q_norm['profundidad'].kurtosis()),  # 2.7 - 3.65\n",
    "    (q_mid['profundidad'].mean(), q_mid['magnitud'].kurtosis(), q_mid['profundidad'].kurtosis()),     # 3.5 - 4.3\n",
    "    (q_hi['profundidad'].mean(), q_hi['magnitud'].kurtosis(), q_hi['profundidad'].kurtosis()),        # 4.3 - 4.8\n",
    "    (q_max['profundidad'].min(), q_max['magnitud'].kurtosis(), q_max['profundidad'].kurtosis()),      # 4.3 - 6\n",
    "]\n",
    "for p in profs:    print(p)\n",
    "for q in other:    print(q)\n",
    "    \n",
    "df2 = pd.DataFrame(\n",
    "    {'Vents': ['Vent 1'], 'Name': ['Dolly'], 'latitud': [28.58], 'longitud': [-17.84]}\n",
    "    )"
   ]
  },
  {
   "cell_type": "code",
   "execution_count": 5,
   "id": "e34b66b2",
   "metadata": {},
   "outputs": [],
   "source": [
    "df_alt = pd.DataFrame(\n",
    "{'Vents': ['Vent 1'],\n",
    " 'Name': ['Dolly'],\n",
    " 'latitud': [28.58],\n",
    " 'longitud': [-17.84]})\n",
    "volcano = GeoDataFrame(df_alt, geometry=gpd.points_from_xy(df_alt.longitud, df_alt.latitud))\n",
    "volcano = volcano.set_crs('epsg:4326') # CRS84 is EPSG:4326"
   ]
  },
  {
   "cell_type": "code",
   "execution_count": null,
   "id": "7cd44b06",
   "metadata": {},
   "outputs": [],
   "source": [
    "pd.Series(['3/11/2000', '3/12/2000', '3/13/2000']*10000)"
   ]
  },
  {
   "cell_type": "code",
   "execution_count": null,
   "id": "903aa8b4",
   "metadata": {},
   "outputs": [],
   "source": [
    "import numpy as np \n",
    "s = pd.Series([\n",
    "  np.datetime64(\"2018-02-01\"),\n",
    "  np.datetime64(\"2019-02-01\"),\n",
    "  np.datetime64(\"2019-02-01\")\n",
    "])"
   ]
  },
  {
   "cell_type": "code",
   "execution_count": null,
   "id": "604f6973",
   "metadata": {},
   "outputs": [],
   "source": []
  }
 ],
 "metadata": {
  "kernelspec": {
   "display_name": "Python 3 (ipykernel)",
   "language": "python",
   "name": "python3"
  },
  "language_info": {
   "codemirror_mode": {
    "name": "ipython",
    "version": 3
   },
   "file_extension": ".py",
   "mimetype": "text/x-python",
   "name": "python",
   "nbconvert_exporter": "python",
   "pygments_lexer": "ipython3",
   "version": "3.9.7"
  }
 },
 "nbformat": 4,
 "nbformat_minor": 5
}
