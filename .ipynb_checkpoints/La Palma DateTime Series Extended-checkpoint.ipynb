{
 "cells": [
  {
   "cell_type": "code",
   "execution_count": 1,
   "id": "55b09afa",
   "metadata": {},
   "outputs": [
    {
     "name": "stdout",
     "output_type": "stream",
     "text": [
      "Loading GeoAnalysisTools\n",
      "dict_keys(['name', 'default', 'IGN', 'profile1', 'profile2'])\n"
     ]
    }
   ],
   "source": [
    "# diego\n",
    "from geoanalysistools.geo import *\n",
    "data = readconf(\"config.toml\")"
   ]
  },
  {
   "cell_type": "code",
   "execution_count": 2,
   "id": "35ca7324",
   "metadata": {},
   "outputs": [],
   "source": [
    "# Open a GeoJSON provided and use it as GeoDataFrame\n",
    "df = gpd.read_file( data['default']['global_geojson_slice_file'], driver=\"GeoJSON\")\n",
    "df[[\"Date\"]] = df[[\"Date\"]].apply(pd.to_datetime)"
   ]
  },
  {
   "cell_type": "code",
   "execution_count": 3,
   "id": "50bbae90",
   "metadata": {},
   "outputs": [],
   "source": [
    "# Drop some Rows based on Bounding box condition\n",
    "df = df.drop(df[df.latitud < data['profile1']['minlat']].index)\n",
    "df = df.drop(df[df.latitud > data['profile1']['maxlat']].index)\n",
    "df = df.drop(df[df.longitud < data['profile1']['minlon']].index)\n",
    "df = df.drop(df[df.longitud > data['profile1']['maxlon']].index)\n",
    "\n",
    "start_date = \"2021-10-26\"\n",
    "end_date = todayDate2()\n",
    "df1 = SeriesCutByDate(start_date, end_date, df)\n",
    "\n",
    "gdf = GeoDataFrame(df, geometry=gpd.points_from_xy(df.longitud, df.latitud))\n",
    "# gdf.describe(percentiles=[.05,.10,.20,.25,.30,.40,.45,.50,.60,.70,.75,.80,.90,.95,.97,.98,.99], include='all',datetime_is_numeric=True)"
   ]
  },
  {
   "cell_type": "code",
   "execution_count": 4,
   "id": "738fdd7e",
   "metadata": {},
   "outputs": [
    {
     "name": "stdout",
     "output_type": "stream",
     "text": [
      "(11.145384615384618, 0.2106830843944674, 7.333730920681074)\n",
      "(0.0, 0.13371586220420906, 8.306920582285576)\n",
      "(15.768901927912824, 0.24308563448616388, 9.001211159803423)\n",
      "(20.064093959731544, 0.2264414553889939, 11.619533334012718)\n",
      "(36.28604651162791, 0.19464025367314083, 1.7531714657332726)\n",
      "(40.6, 0.2485250608738542, 1.7206496721057565)\n",
      "(11.145384615384618, -1.3005986646501138, 5.640280209519037)\n",
      "(41.7, -1.1623808970030416, 2.056510815966312)\n",
      "(15.768901927912824, -0.5216587252472271, 0.9626919583682629)\n",
      "(20.064093959731544, 0.7753736553726025, -1.463438783912389)\n",
      "(36.28604651162791, -1.4816171991348028, 0.35927977108339215)\n",
      "(32.1, -1.16967174788283, 0.14121710881121263)\n"
     ]
    }
   ],
   "source": [
    "q_none = gdf.loc[ df['magnitud'].between(1.8,2.4) ]\n",
    "q_low = gdf.loc[ df['magnitud'].between(2.4,2.85) ]\n",
    "q_norm = gdf.loc[ df['magnitud'].between(2.7,3.65) ]\n",
    "q_mid = gdf.loc[ df['magnitud'].between(3.5,4.3) ]\n",
    "q_hi = gdf.loc[ df['magnitud'].between(4.3,4.8) ]\n",
    "q_max = gdf.loc[ df['magnitud'].between(4.3,6) ]\n",
    "profs = [\n",
    "    (q_none['profundidad'].mean(), q_none['magnitud'].std(), q_none['profundidad'].std()),      # 1.8 - 2.4\n",
    "    (q_low['profundidad'].min(), q_low['magnitud'].std(), q_low['profundidad'].std()),      # 2.4 - 2.85\n",
    "    (q_norm['profundidad'].mean(), q_norm['magnitud'].std(), q_norm['profundidad'].std()),   # 2.7 - 3.65\n",
    "    (q_mid['profundidad'].mean(), q_mid['magnitud'].std(), q_mid['profundidad'].std()),     # 3.5 - 4.3\n",
    "    (q_hi['profundidad'].mean(), q_hi['magnitud'].std(), q_hi['profundidad'].std()),       # 4.3 - 4.8\n",
    "    (q_max['profundidad'].max(), q_max['magnitud'].std(), q_max['profundidad'].std()),      # 4.3 - 6\n",
    "     ]\n",
    "other = [\n",
    "    (q_none['profundidad'].mean(), q_none['magnitud'].kurtosis(), q_none['profundidad'].kurtosis()),  # 1.8 - 2.4\n",
    "    (q_low['profundidad'].max(), q_low['magnitud'].kurtosis(), q_low['profundidad'].kurtosis()),      # 2.4 - 2.85\n",
    "    (q_norm['profundidad'].mean(), q_norm['magnitud'].kurtosis(), q_norm['profundidad'].kurtosis()),  # 2.7 - 3.65\n",
    "    (q_mid['profundidad'].mean(), q_mid['magnitud'].kurtosis(), q_mid['profundidad'].kurtosis()),     # 3.5 - 4.3\n",
    "    (q_hi['profundidad'].mean(), q_hi['magnitud'].kurtosis(), q_hi['profundidad'].kurtosis()),        # 4.3 - 4.8\n",
    "    (q_max['profundidad'].min(), q_max['magnitud'].kurtosis(), q_max['profundidad'].kurtosis()),      # 4.3 - 6\n",
    "]\n",
    "for p in profs:    print(p)\n",
    "for q in other:    print(q)\n",
    "    \n",
    "df2 = pd.DataFrame(\n",
    "    {'Vents': ['Vent 1'], 'Name': ['Dolly'], 'latitud': [28.58], 'longitud': [-17.84]}\n",
    "    )"
   ]
  },
  {
   "cell_type": "code",
   "execution_count": 5,
   "id": "e34b66b2",
   "metadata": {},
   "outputs": [],
   "source": [
    "df_alt = pd.DataFrame(\n",
    "{'Vents': ['Vent 1'],\n",
    " 'Name': ['Dolly'],\n",
    " 'latitud': [28.58],\n",
    " 'longitud': [-17.84]})\n",
    "volcano = GeoDataFrame(df_alt, geometry=gpd.points_from_xy(df_alt.longitud, df_alt.latitud))\n",
    "volcano = volcano.set_crs('epsg:4326') # CRS84 is EPSG:4326"
   ]
  },
  {
   "cell_type": "code",
   "execution_count": null,
   "id": "7cd44b06",
   "metadata": {},
   "outputs": [],
   "source": [
    "pd.Series(['3/11/2000', '3/12/2000', '3/13/2000']*10000)"
   ]
  },
  {
   "cell_type": "code",
   "execution_count": null,
   "id": "903aa8b4",
   "metadata": {},
   "outputs": [],
   "source": [
    "import numpy as np \n",
    "s = pd.Series([\n",
    "  np.datetime64(\"2018-02-01\"),\n",
    "  np.datetime64(\"2019-02-01\"),\n",
    "  np.datetime64(\"2019-02-01\")\n",
    "])"
   ]
  },
  {
   "cell_type": "code",
   "execution_count": null,
   "id": "604f6973",
   "metadata": {},
   "outputs": [],
   "source": []
  }
 ],
 "metadata": {
  "kernelspec": {
   "display_name": "Python 3 (ipykernel)",
   "language": "python",
   "name": "python3"
  },
  "language_info": {
   "codemirror_mode": {
    "name": "ipython",
    "version": 3
   },
   "file_extension": ".py",
   "mimetype": "text/x-python",
   "name": "python",
   "nbconvert_exporter": "python",
   "pygments_lexer": "ipython3",
   "version": "3.9.7"
  }
 },
 "nbformat": 4,
 "nbformat_minor": 5
}
